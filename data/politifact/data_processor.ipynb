{
 "cells": [
  {
   "cell_type": "code",
   "id": "initial_id",
   "metadata": {
    "collapsed": true,
    "ExecuteTime": {
     "end_time": "2024-11-14T07:01:08.263442Z",
     "start_time": "2024-11-14T07:01:06.635551Z"
    }
   },
   "source": [
    "import os\n",
    "import pandas as pd\n",
    "print(os.getcwd())\n",
    "\n",
    "train_df = pd.read_csv('/home/lyq/DataSet/FakeNews/politifact/SC1_politifact/50_candidates_bm25_extended_reranking/Politifact.train.tsv',sep='\\t')\n",
    "dev_df = pd.read_csv('/home/lyq/DataSet/FakeNews/politifact/SC1_politifact/50_candidates_bm25_extended_reranking/Politifact.dev.tsv',sep='\\t')\n",
    "test_df = pd.read_csv('/home/lyq/DataSet/FakeNews/politifact/SC1_politifact/50_candidates_bm25_extended_reranking/Politifact.test.tsv',sep='\\t')\n",
    "test_hard_df = pd.read_csv('/home/lyq/DataSet/FakeNews/politifact/SC1_politifact/50_candidates_bm25_extended_reranking/Politifact.test2_hard.tsv',sep='\\t')\n",
    "\n",
    "\n",
    "print(f\"train : {len(train_df['QueryID'].value_counts())}\")\n",
    "print(f\"dev : {len(dev_df['QueryID'].value_counts())}\")\n",
    "print(f\"test : {len(test_df['QueryID'].value_counts())}\")\n",
    "print(f\"test_hard : {len(test_hard_df['QueryID'].value_counts())}\")\n",
    "\n",
    "df = pd.concat([train_df, dev_df, test_df, test_hard_df], ignore_index=True)"
   ],
   "outputs": [
    {
     "name": "stdout",
     "output_type": "stream",
     "text": [
      "/home/lyq/DataSet/FakeNews/politifact\n",
      "train : 1496\n",
      "dev : 187\n",
      "test : 187\n",
      "test_hard : 156\n"
     ]
    }
   ],
   "execution_count": 1
  },
  {
   "metadata": {
    "ExecuteTime": {
     "end_time": "2024-11-14T07:01:31.025560Z",
     "start_time": "2024-11-14T07:01:31.020127Z"
    }
   },
   "cell_type": "code",
   "source": [
    "\n",
    "df = df[['QueryID','QueryText','QueryImages','Label']]\n",
    "df = df.drop_duplicates(keep='first',subset=['QueryID'])\n",
    "df = df.dropna(subset=['QueryID','QueryText','QueryImages','Label']) \n",
    "\n",
    "values_count = df['Label'].value_counts()\n",
    "values_count"
   ],
   "id": "eeb79826bf657179",
   "outputs": [
    {
     "data": {
      "text/plain": [
       "Label\n",
       "0.0    2025\n",
       "Name: count, dtype: int64"
      ]
     },
     "execution_count": 4,
     "metadata": {},
     "output_type": "execute_result"
    }
   ],
   "execution_count": 4
  },
  {
   "metadata": {
    "ExecuteTime": {
     "end_time": "2024-11-14T03:02:32.355622Z",
     "start_time": "2024-11-14T03:02:32.290914Z"
    }
   },
   "cell_type": "code",
   "source": [
    "\n",
    "from PIL import Image\n",
    "\n",
    "\n",
    "def check_image(image_list:str):\n",
    "    image_list = [f'raw_images/{image}' for image in image_list.split()]\n",
    "    for image_file in image_list:\n",
    "        if not os.path.exists(image_file):\n",
    "            continue\n",
    "        try:\n",
    "            with Image.open(image_file) as img:\n",
    "                img.verify()\n",
    "            \n",
    "            return image_file\n",
    "        except (IOError, SyntaxError) as e:\n",
    "            print(f\"图片 {image_file} 无效: {e}\")\n",
    "            continue\n",
    "    return None\n",
    "    \n",
    "df['QueryImages'] = df['QueryImages'].apply(lambda x: check_image(x))\n",
    "df.dropna(subset=['QueryImages'], inplace=True)\n",
    "len(df)"
   ],
   "id": "3a5509053cef2f50",
   "outputs": [
    {
     "data": {
      "text/plain": [
       "2025"
      ]
     },
     "execution_count": 15,
     "metadata": {},
     "output_type": "execute_result"
    }
   ],
   "execution_count": 15
  },
  {
   "metadata": {
    "ExecuteTime": {
     "end_time": "2024-11-14T03:02:37.681869Z",
     "start_time": "2024-11-14T03:02:37.676790Z"
    }
   },
   "cell_type": "code",
   "source": "df.to_csv('politifact.csv')",
   "id": "3df1880c170d0929",
   "outputs": [],
   "execution_count": 16
  }
 ],
 "metadata": {
  "kernelspec": {
   "display_name": "Python 3",
   "language": "python",
   "name": "python3"
  },
  "language_info": {
   "codemirror_mode": {
    "name": "ipython",
    "version": 2
   },
   "file_extension": ".py",
   "mimetype": "text/x-python",
   "name": "python",
   "nbconvert_exporter": "python",
   "pygments_lexer": "ipython2",
   "version": "2.7.6"
  }
 },
 "nbformat": 4,
 "nbformat_minor": 5
}
